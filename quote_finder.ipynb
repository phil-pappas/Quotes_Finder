{
 "cells": [
  {
   "cell_type": "code",
   "execution_count": 3,
   "metadata": {},
   "outputs": [],
   "source": [
    "from PIL import Image \n",
    "import pytesseract \n",
    "import os"
   ]
  },
  {
   "cell_type": "code",
   "execution_count": 16,
   "metadata": {},
   "outputs": [
    {
     "name": "stdout",
     "output_type": "stream",
     "text": [
      "im eee ela\n",
      "to fly, give up\n",
      "up everything\n",
      "Marea eyed ars\n",
      "you down.\n",
      "\f",
      "\n",
      "we fall.\n",
      "we break.\n",
      "we fail.\n",
      "\n",
      "but then,\n",
      "we rise.\n",
      "\n",
      "we heal.\n",
      "we overcomes\n",
      "\n",
      "@awxme\n",
      "\f",
      "\n"
     ]
    }
   ],
   "source": [
    "for filename in os.listdir(directory):\n",
    "    if filename.endswith(\".jpg\"):\n",
    "        image_path = \"quote_images/\" + filename\n",
    "        #filename = doc+\"page_\"+str(i)+\".jpg\"\n",
    "        # Recognize the text as string in image using pytesserct \n",
    "        text = str(((pytesseract.image_to_string(Image.open(image_path))))) \n",
    "        print (text)"
   ]
  }
 ],
 "metadata": {
  "kernelspec": {
   "display_name": "Python 3",
   "language": "python",
   "name": "python3"
  },
  "language_info": {
   "codemirror_mode": {
    "name": "ipython",
    "version": 3
   },
   "file_extension": ".py",
   "mimetype": "text/x-python",
   "name": "python",
   "nbconvert_exporter": "python",
   "pygments_lexer": "ipython3",
   "version": "3.7.6"
  }
 },
 "nbformat": 4,
 "nbformat_minor": 4
}
