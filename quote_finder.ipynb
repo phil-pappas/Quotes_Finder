{
 "cells": [
  {
   "cell_type": "code",
   "execution_count": 6,
   "metadata": {},
   "outputs": [],
   "source": [
    "from PIL import Image \n",
    "import pytesseract \n",
    "import os\n",
    "import pathlib\n"
   ]
  },
  {
   "source": [
    "directory = os.path.abspath(os.getcwd()) + \"/quote_images/in/\"\n",
    "counter = 0 \n",
    "for filename in os.listdir(directory):\n",
    "    if filename.endswith(\".jpg\"):\n",
    "        image_path = \"quote_images/in/\" + filename\n",
    "        #filename = doc+\"page_\"+str(i)+\".jpg\"\n",
    "        # Recognize the text as string in image using pytesserct \n",
    "        text = str(((pytesseract.image_to_string(Image.open(image_path))))) \n",
    "        print (text)\n",
    "        counter += 1\n",
    "        if (counter ==5):\n",
    "            break"
   ],
   "cell_type": "code",
   "metadata": {},
   "execution_count": null,
   "outputs": []
  },
  {
   "cell_type": "code",
   "execution_count": 16,
   "metadata": {},
   "outputs": [],
   "source": [
    "#put the text from all images as well as the names of the image files into a dataframe"
   ]
  },
  {
   "cell_type": "code",
   "execution_count": null,
   "metadata": {},
   "outputs": [],
   "source": []
  }
 ],
 "metadata": {
  "kernelspec": {
   "display_name": "Python 3",
   "language": "python",
   "name": "python3"
  },
  "language_info": {
   "codemirror_mode": {
    "name": "ipython",
    "version": 3
   },
   "file_extension": ".py",
   "mimetype": "text/x-python",
   "name": "python",
   "nbconvert_exporter": "python",
   "pygments_lexer": "ipython3",
   "version": "3.7.4-final"
  }
 },
 "nbformat": 4,
 "nbformat_minor": 4
}