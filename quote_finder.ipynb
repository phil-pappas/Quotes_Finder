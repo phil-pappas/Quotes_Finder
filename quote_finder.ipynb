{
 "cells": [
  {
   "cell_type": "code",
   "execution_count": 11,
   "metadata": {},
   "outputs": [
    {
     "name": "stdout",
     "output_type": "stream",
     "text": [
      "Collecting bs4\n",
      "  Downloading bs4-0.0.1.tar.gz (1.1 kB)\n",
      "Requirement already satisfied: beautifulsoup4 in /Users/filippospappas/opt/anaconda3/lib/python3.8/site-packages (from bs4) (4.9.3)\n",
      "Requirement already satisfied: soupsieve>1.2; python_version >= \"3.0\" in /Users/filippospappas/opt/anaconda3/lib/python3.8/site-packages (from beautifulsoup4->bs4) (2.0.1)\n",
      "Building wheels for collected packages: bs4\n",
      "  Building wheel for bs4 (setup.py) ... \u001b[?25ldone\n",
      "\u001b[?25h  Created wheel for bs4: filename=bs4-0.0.1-py3-none-any.whl size=1273 sha256=8cc40cb66a1f7395e4089277020e7d116015ff5cb4aff950ea33a463a2e813df\n",
      "  Stored in directory: /Users/filippospappas/Library/Caches/pip/wheels/75/78/21/68b124549c9bdc94f822c02fb9aa3578a669843f9767776bca\n",
      "Successfully built bs4\n",
      "Installing collected packages: bs4\n",
      "Successfully installed bs4-0.0.1\n",
      "Requirement already satisfied: selenium in /Users/filippospappas/opt/anaconda3/lib/python3.8/site-packages (3.141.0)\n",
      "Requirement already satisfied: urllib3 in /Users/filippospappas/opt/anaconda3/lib/python3.8/site-packages (from selenium) (1.25.11)\n"
     ]
    }
   ],
   "source": [
    "!pip install bs4\n",
    "!pip install selenium"
   ]
  },
  {
   "cell_type": "code",
   "execution_count": 86,
   "metadata": {},
   "outputs": [
    {
     "name": "stdout",
     "output_type": "stream",
     "text": [
      "Type the Google Image query: \n",
      "short quotes\n",
      "Number of images downloaded = 361\r"
     ]
    }
   ],
   "source": [
    "%run google_image_downloader.py"
   ]
  },
  {
   "cell_type": "code",
   "execution_count": 77,
   "metadata": {},
   "outputs": [],
   "source": [
    "'''\n",
    "#Renaming files with their directory name as a prefix\n",
    "# importing os module\n",
    "import os\n",
    "root_folder = \"data/\"\n",
    "for count, folder in enumerate(os.listdir(root_folder)):\n",
    "    #skip .DS_store\n",
    "    if folder[0].isalpha():\n",
    "        for count, filename in enumerate(os.listdir(root_folder+folder)):\n",
    "            filename_new = folder + \"_\" + str(count) + \".jpg\"\n",
    "            #print(filename) \n",
    "            src = folder + \"/\" + filename\n",
    "            #print(src)\n",
    "            dst = folder + \"/\" + filename_new\n",
    "            os.rename(root_folder+folder+\"/\"+filename, root_folder+folder+\"/\"+filename_new)\n",
    "        #print(folder)'''\n"
   ]
  },
  {
   "cell_type": "code",
   "execution_count": 6,
   "metadata": {},
   "outputs": [],
   "source": [
    "from PIL import Image \n",
    "import pytesseract \n",
    "import os\n",
    "import pathlib\n"
   ]
  },
  {
   "cell_type": "code",
   "execution_count": null,
   "metadata": {},
   "outputs": [],
   "source": [
    "directory = os.path.abspath(os.getcwd()) + \"/data/quotes/\"\n",
    "counter = 0 \n",
    "for filename in os.listdir(directory):\n",
    "    if filename.endswith(\".jpg\"):\n",
    "        image_path = \"quote_images/in/\" + filename\n",
    "        #filename = doc+\"page_\"+str(i)+\".jpg\"\n",
    "        # Recognize the text as string in image using pytesserct \n",
    "        text = str(((pytesseract.image_to_string(Image.open(image_path))))) \n",
    "        print (text)\n",
    "        counter += 1\n",
    "        if (counter ==5):\n",
    "            break"
   ]
  },
  {
   "cell_type": "code",
   "execution_count": 16,
   "metadata": {},
   "outputs": [],
   "source": [
    "#put the text from all images as well as the names of the image files into a dataframe"
   ]
  },
  {
   "cell_type": "code",
   "execution_count": null,
   "metadata": {},
   "outputs": [],
   "source": []
  }
 ],
 "metadata": {
  "kernelspec": {
   "display_name": "Python 3",
   "language": "python",
   "name": "python3"
  },
  "language_info": {
   "codemirror_mode": {
    "name": "ipython",
    "version": 3
   },
   "file_extension": ".py",
   "mimetype": "text/x-python",
   "name": "python",
   "nbconvert_exporter": "python",
   "pygments_lexer": "ipython3",
   "version": "3.8.5"
  }
 },
 "nbformat": 4,
 "nbformat_minor": 4
}
